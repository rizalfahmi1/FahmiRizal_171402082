{
 "cells": [
  {
   "cell_type": "code",
   "execution_count": 3,
   "metadata": {},
   "outputs": [
    {
     "name": "stdout",
     "output_type": "stream",
     "text": [
      "Masukkan banyaknya angka: 5\n",
      "1\n",
      "1\n",
      "2\n",
      "3\n"
     ]
    }
   ],
   "source": [
    "class Fibonacci:\n",
    "\n",
    "    def fibona(self,a):\n",
    "        if(a==0):\n",
    "            return 0\n",
    "        elif(a==1):\n",
    "            return 1\n",
    "        else:\n",
    "            fibo = (self.fibona(a-1)+self.fibona(a-2))\n",
    "            return fibo\n",
    "\n",
    "angka = int(input(\"Masukkan banyaknya angka: \"))\n",
    "for i in range(1,angka):\n",
    "    print(Fibonacci().fibona(i))\n",
    "    "
   ]
  },
  {
   "cell_type": "code",
   "execution_count": null,
   "metadata": {},
   "outputs": [],
   "source": []
  }
 ],
 "metadata": {
  "kernelspec": {
   "display_name": "Python 3",
   "language": "python",
   "name": "python3"
  },
  "language_info": {
   "codemirror_mode": {
    "name": "ipython",
    "version": 3
   },
   "file_extension": ".py",
   "mimetype": "text/x-python",
   "name": "python",
   "nbconvert_exporter": "python",
   "pygments_lexer": "ipython3",
   "version": "3.7.5"
  }
 },
 "nbformat": 4,
 "nbformat_minor": 2
}
